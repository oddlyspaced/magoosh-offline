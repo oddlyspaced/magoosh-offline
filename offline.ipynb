{
 "cells": [
  {
   "cell_type": "markdown",
   "metadata": {},
   "source": [
    "### Handle Imports"
   ]
  },
  {
   "cell_type": "code",
   "execution_count": 19,
   "metadata": {},
   "outputs": [],
   "source": [
    "from selenium import webdriver\n",
    "from selenium.webdriver.common.by import By\n",
    "from selenium.webdriver import ChromeOptions"
   ]
  },
  {
   "cell_type": "markdown",
   "metadata": {},
   "source": [
    "### Set data directory"
   ]
  },
  {
   "cell_type": "code",
   "execution_count": 8,
   "metadata": {},
   "outputs": [],
   "source": [
    "data_dir = \"/home/hardik/Projects/Python/magoosh-offline/chrome_data\"\n",
    "options = ChromeOptions()\n",
    "options.add_argument(\"--user-data-dir=\" + data_dir)"
   ]
  },
  {
   "cell_type": "markdown",
   "metadata": {},
   "source": [
    "### Launch driver instance"
   ]
  },
  {
   "cell_type": "code",
   "execution_count": 9,
   "metadata": {},
   "outputs": [],
   "source": [
    "driver = webdriver.Chrome(options=options)"
   ]
  },
  {
   "cell_type": "markdown",
   "metadata": {},
   "source": [
    "### Open Magoosh Lessons Page"
   ]
  },
  {
   "cell_type": "code",
   "execution_count": 11,
   "metadata": {},
   "outputs": [],
   "source": [
    "driver.get(\"https://gre.magoosh.com/lessons\")"
   ]
  },
  {
   "cell_type": "markdown",
   "metadata": {},
   "source": [
    "### Get Lesson List with Links"
   ]
  },
  {
   "cell_type": "code",
   "execution_count": 24,
   "metadata": {},
   "outputs": [],
   "source": [
    "all_links = driver.find_elements(by=By.CLASS_NAME, value=\"lesson-item\")"
   ]
  },
  {
   "cell_type": "markdown",
   "metadata": {},
   "source": [
    "### Loop over links and print their title and link"
   ]
  },
  {
   "cell_type": "code",
   "execution_count": 30,
   "metadata": {},
   "outputs": [
    {
     "name": "stdout",
     "output_type": "stream",
     "text": [
      "General Introduction 6:03\n",
      "https://gre.magoosh.com/lessons/996-general-introduction\n",
      "---\n",
      "What's on the GRE? 5:05\n",
      "https://gre.magoosh.com/lessons/922-what-s-on-the-gre\n",
      "---\n",
      "Math Section Breakdown 3:59\n",
      "https://gre.magoosh.com/lessons/923-math-section-breakdown\n",
      "---\n",
      "Verbal Section Breakdown 4:23\n",
      "https://gre.magoosh.com/lessons/924-verbal-section-breakdown\n",
      "---\n",
      "Scoring Range 2:06\n",
      "https://gre.magoosh.com/lessons/925-scoring-range\n",
      "---\n",
      "Computer Adaptive Testing 2:53\n",
      "https://gre.magoosh.com/lessons/926-computer-adaptive-testing\n",
      "---\n",
      "Skipping Questions and Pacing 8:19\n",
      "https://gre.magoosh.com/lessons/927-skipping-questions-and-pacing\n",
      "---\n",
      "Study Plans and Resources 3:04\n",
      "https://gre.magoosh.com/lessons/989-study-plans-and-resources\n",
      "---\n",
      "Stress Management 8:29\n",
      "https://gre.magoosh.com/lessons/929-stress-management\n",
      "---\n",
      "Test Day 4:07\n",
      "https://gre.magoosh.com/lessons/930-test-day\n",
      "---\n"
     ]
    }
   ],
   "source": [
    "for link in all_links:\n",
    "    a_element = link.find_element(by=By.TAG_NAME, value=\"a\")\n",
    "    print(a_element.text)\n",
    "    print(a_element.get_attribute(\"href\"))\n",
    "    print(\"---\")"
   ]
  }
 ],
 "metadata": {
  "interpreter": {
   "hash": "e7370f93d1d0cde622a1f8e1c04877d8463912d04d973331ad4851f04de6915a"
  },
  "kernelspec": {
   "display_name": "Python 3.10.4 64-bit",
   "language": "python",
   "name": "python3"
  },
  "language_info": {
   "codemirror_mode": {
    "name": "ipython",
    "version": 3
   },
   "file_extension": ".py",
   "mimetype": "text/x-python",
   "name": "python",
   "nbconvert_exporter": "python",
   "pygments_lexer": "ipython3",
   "version": "3.10.4"
  },
  "orig_nbformat": 4
 },
 "nbformat": 4,
 "nbformat_minor": 2
}
