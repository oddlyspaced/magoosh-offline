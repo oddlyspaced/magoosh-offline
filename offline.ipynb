{
 "cells": [
  {
   "cell_type": "markdown",
   "metadata": {},
   "source": [
    "### Handle Imports"
   ]
  },
  {
   "cell_type": "code",
   "execution_count": 51,
   "metadata": {},
   "outputs": [],
   "source": [
    "from selenium import webdriver\n",
    "from selenium.webdriver.common.by import By\n",
    "from selenium.webdriver import ChromeOptions"
   ]
  },
  {
   "cell_type": "markdown",
   "metadata": {},
   "source": [
    "### Setup helper data classes"
   ]
  },
  {
   "cell_type": "code",
   "execution_count": 52,
   "metadata": {},
   "outputs": [],
   "source": [
    "class Lesson:\n",
    "    def __init__(self, title, link, video_link):\n",
    "        self.title = title\n",
    "        self.link = link\n",
    "        self.video_link = video_link"
   ]
  },
  {
   "cell_type": "markdown",
   "metadata": {},
   "source": [
    "### Set data directory"
   ]
  },
  {
   "cell_type": "code",
   "execution_count": 53,
   "metadata": {},
   "outputs": [],
   "source": [
    "data_dir = \"/home/hardik/Projects/Python/magoosh-offline/chrome_data\"\n",
    "options = ChromeOptions()\n",
    "options.add_argument(\"--user-data-dir=\" + data_dir)"
   ]
  },
  {
   "cell_type": "markdown",
   "metadata": {},
   "source": [
    "### Launch driver instance"
   ]
  },
  {
   "cell_type": "code",
   "execution_count": 56,
   "metadata": {},
   "outputs": [],
   "source": [
    "driver = webdriver.Chrome(options=options)"
   ]
  },
  {
   "cell_type": "markdown",
   "metadata": {},
   "source": [
    "### Open Magoosh Lessons Page"
   ]
  },
  {
   "cell_type": "code",
   "execution_count": 57,
   "metadata": {},
   "outputs": [],
   "source": [
    "driver.get(\"https://gre.magoosh.com/lessons\")"
   ]
  },
  {
   "cell_type": "markdown",
   "metadata": {},
   "source": [
    "### Get Lesson List with Links"
   ]
  },
  {
   "cell_type": "code",
   "execution_count": 58,
   "metadata": {},
   "outputs": [
    {
     "name": "stdout",
     "output_type": "stream",
     "text": [
      "Found 10 elements\n"
     ]
    }
   ],
   "source": [
    "all_links = driver.find_elements(by=By.CLASS_NAME, value=\"lesson-item\")\n",
    "\n",
    "print(\"Found \" + str(len(all_links)) + \" elements\")"
   ]
  },
  {
   "cell_type": "markdown",
   "metadata": {},
   "source": [
    "### Loop over links and print their title and link and create Lesson list"
   ]
  },
  {
   "cell_type": "code",
   "execution_count": 59,
   "metadata": {},
   "outputs": [],
   "source": [
    "lesson_list = []"
   ]
  },
  {
   "cell_type": "code",
   "execution_count": 60,
   "metadata": {},
   "outputs": [
    {
     "name": "stdout",
     "output_type": "stream",
     "text": [
      "Generated list of 10 lessons.\n"
     ]
    }
   ],
   "source": [
    "for link in all_links:\n",
    "    a_element = link.find_element(by=By.TAG_NAME, value=\"a\")\n",
    "    temp = Lesson(a_element.text, a_element.get_attribute(\"href\"), \"\")\n",
    "    lesson_list.append(temp)\n",
    "\n",
    "print(\"Generated list of \" + str(len(lesson_list)) + \" lessons.\")"
   ]
  },
  {
   "cell_type": "markdown",
   "metadata": {},
   "source": [
    "### Loop over lessons to get their video link"
   ]
  },
  {
   "cell_type": "code",
   "execution_count": 61,
   "metadata": {},
   "outputs": [],
   "source": [
    "for index in range(len(lesson_list)):\n",
    "    lesson = lesson_list[index]\n",
    "    driver.get(lesson.link)\n",
    "    player_element = driver.find_element(by=By.CLASS_NAME, value=\"vjs-tech\")\n",
    "    lesson_list[index].video_link = player_element.get_attribute(\"src\")"
   ]
  },
  {
   "cell_type": "markdown",
   "metadata": {},
   "source": [
    "### Print list of lessons to check"
   ]
  },
  {
   "cell_type": "code",
   "execution_count": 62,
   "metadata": {},
   "outputs": [
    {
     "name": "stdout",
     "output_type": "stream",
     "text": [
      "General Introduction 6:03\n",
      "https://d296n67kxwq0ge.cloudfront.net/audio_video/dede92e8b7f0336a021237d31cd27e25eee639b7-video-959/web_webm.webm\n",
      "---\n",
      "What's on the GRE? 5:05\n",
      "https://d296n67kxwq0ge.cloudfront.net/audio_video/b1691cd3f2ace57111faeb05d8b99372f28af5c7-video-885/web_webm.webm\n",
      "---\n",
      "Math Section Breakdown 3:59\n",
      "https://d296n67kxwq0ge.cloudfront.net/audio_video/06ed0107e7f1a75b92ce53d5d638c44670ba80a1-video-889/web_webm.webm\n",
      "---\n",
      "Verbal Section Breakdown 4:23\n",
      "https://d296n67kxwq0ge.cloudfront.net/audio_video/10f76691edd3e0eb88671da08ff42ff36022facf-video-891/web_webm.webm\n",
      "---\n",
      "Scoring Range 2:06\n",
      "https://d296n67kxwq0ge.cloudfront.net/audio_video/dfdd123629daba510a051aaec30198d6216dc201-video-888/web_webm.webm\n",
      "---\n",
      "Computer Adaptive Testing 2:53\n",
      "https://d296n67kxwq0ge.cloudfront.net/audio_video/3b682dcae09c1b0c03c5166b13ceab46306c5f39-video-890/web_webm.webm\n",
      "---\n",
      "Skipping Questions and Pacing 8:19\n",
      "https://d296n67kxwq0ge.cloudfront.net/audio_video/811e768cbc21cbda734476036716400ec1fdf9f0-video-892/web_webm.webm\n",
      "---\n",
      "Study Plans and Resources 3:04\n",
      "https://d296n67kxwq0ge.cloudfront.net/audio_video/003c22c19e4841e0f5b5d636423af35ee7a53b97-video-952/web_webm.webm\n",
      "---\n",
      "Stress Management 8:29\n",
      "https://d296n67kxwq0ge.cloudfront.net/audio_video/c2b3c5062c8598bc7c923f7dd1578256a4af06ae-video-894/web_webm.webm\n",
      "---\n",
      "Test Day 4:07\n",
      "https://d296n67kxwq0ge.cloudfront.net/audio_video/75f8bac2e6f5faebbcf0f677d4521e55b9c94807-video-895/web_webm.webm\n",
      "---\n"
     ]
    }
   ],
   "source": [
    "for lesson in lesson_list:\n",
    "    print(lesson.title)\n",
    "    print(lesson.video_link)\n",
    "    print(\"---\")"
   ]
  },
  {
   "cell_type": "markdown",
   "metadata": {},
   "source": [
    "### Backing up lesson list"
   ]
  },
  {
   "cell_type": "code",
   "execution_count": 63,
   "metadata": {},
   "outputs": [],
   "source": [
    "bkp_lessons = lesson_list"
   ]
  },
  {
   "cell_type": "markdown",
   "metadata": {},
   "source": [
    "### Sanitize file names"
   ]
  },
  {
   "cell_type": "code",
   "execution_count": 68,
   "metadata": {},
   "outputs": [],
   "source": [
    "for index in range(len(bkp_lessons)):\n",
    "    lesson = bkp_lessons[index]\n",
    "    sanitized_name = lesson.title[0:lesson.title.rindex(' ')]\n",
    "    sanitized_name = str(index + 1) + \"_\" + sanitized_name.replace(\" \", \"_\")\n",
    "    bkp_lessons[index].title = sanitized_name"
   ]
  }
 ],
 "metadata": {
  "interpreter": {
   "hash": "e7370f93d1d0cde622a1f8e1c04877d8463912d04d973331ad4851f04de6915a"
  },
  "kernelspec": {
   "display_name": "Python 3.10.4 64-bit",
   "language": "python",
   "name": "python3"
  },
  "language_info": {
   "codemirror_mode": {
    "name": "ipython",
    "version": 3
   },
   "file_extension": ".py",
   "mimetype": "text/x-python",
   "name": "python",
   "nbconvert_exporter": "python",
   "pygments_lexer": "ipython3",
   "version": "3.10.4"
  },
  "orig_nbformat": 4
 },
 "nbformat": 4,
 "nbformat_minor": 2
}
