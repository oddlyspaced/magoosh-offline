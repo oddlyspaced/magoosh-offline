{
 "cells": [
  {
   "cell_type": "markdown",
   "metadata": {},
   "source": [
    "### Handle Imports"
   ]
  },
  {
   "cell_type": "code",
   "execution_count": 71,
   "metadata": {},
   "outputs": [],
   "source": [
    "from selenium import webdriver\n",
    "from selenium.webdriver.common.by import By\n",
    "from selenium.webdriver import ChromeOptions\n",
    "import urllib.request"
   ]
  },
  {
   "cell_type": "markdown",
   "metadata": {},
   "source": [
    "### Setup helper data classes"
   ]
  },
  {
   "cell_type": "code",
   "execution_count": 52,
   "metadata": {},
   "outputs": [],
   "source": [
    "class Lesson:\n",
    "    def __init__(self, title, link, video_link):\n",
    "        self.title = title\n",
    "        self.link = link\n",
    "        self.video_link = video_link"
   ]
  },
  {
   "cell_type": "markdown",
   "metadata": {},
   "source": [
    "### Set data directory"
   ]
  },
  {
   "cell_type": "code",
   "execution_count": 53,
   "metadata": {},
   "outputs": [],
   "source": [
    "data_dir = \"/home/hardik/Projects/Python/magoosh-offline/chrome_data\"\n",
    "options = ChromeOptions()\n",
    "options.add_argument(\"--user-data-dir=\" + data_dir)"
   ]
  },
  {
   "cell_type": "markdown",
   "metadata": {},
   "source": [
    "### Launch driver instance"
   ]
  },
  {
   "cell_type": "code",
   "execution_count": 56,
   "metadata": {},
   "outputs": [],
   "source": [
    "driver = webdriver.Chrome(options=options)"
   ]
  },
  {
   "cell_type": "markdown",
   "metadata": {},
   "source": [
    "### Open Magoosh Lessons Page"
   ]
  },
  {
   "cell_type": "code",
   "execution_count": 57,
   "metadata": {},
   "outputs": [],
   "source": [
    "driver.get(\"https://gre.magoosh.com/lessons\")"
   ]
  },
  {
   "cell_type": "markdown",
   "metadata": {},
   "source": [
    "### Get Lesson List with Links"
   ]
  },
  {
   "cell_type": "code",
   "execution_count": 58,
   "metadata": {},
   "outputs": [
    {
     "name": "stdout",
     "output_type": "stream",
     "text": [
      "Found 10 elements\n"
     ]
    }
   ],
   "source": [
    "all_links = driver.find_elements(by=By.CLASS_NAME, value=\"lesson-item\")\n",
    "\n",
    "print(\"Found \" + str(len(all_links)) + \" elements\")"
   ]
  },
  {
   "cell_type": "markdown",
   "metadata": {},
   "source": [
    "### Loop over links and print their title and link and create Lesson list"
   ]
  },
  {
   "cell_type": "code",
   "execution_count": 59,
   "metadata": {},
   "outputs": [],
   "source": [
    "lesson_list = []"
   ]
  },
  {
   "cell_type": "code",
   "execution_count": 60,
   "metadata": {},
   "outputs": [
    {
     "name": "stdout",
     "output_type": "stream",
     "text": [
      "Generated list of 10 lessons.\n"
     ]
    }
   ],
   "source": [
    "for link in all_links:\n",
    "    a_element = link.find_element(by=By.TAG_NAME, value=\"a\")\n",
    "    temp = Lesson(a_element.text, a_element.get_attribute(\"href\"), \"\")\n",
    "    lesson_list.append(temp)\n",
    "\n",
    "print(\"Generated list of \" + str(len(lesson_list)) + \" lessons.\")"
   ]
  },
  {
   "cell_type": "markdown",
   "metadata": {},
   "source": [
    "### Loop over lessons to get their video link"
   ]
  },
  {
   "cell_type": "code",
   "execution_count": 61,
   "metadata": {},
   "outputs": [],
   "source": [
    "for index in range(len(lesson_list)):\n",
    "    lesson = lesson_list[index]\n",
    "    driver.get(lesson.link)\n",
    "    player_element = driver.find_element(by=By.CLASS_NAME, value=\"vjs-tech\")\n",
    "    lesson_list[index].video_link = player_element.get_attribute(\"src\")"
   ]
  },
  {
   "cell_type": "markdown",
   "metadata": {},
   "source": [
    "### Print list of lessons to check"
   ]
  },
  {
   "cell_type": "code",
   "execution_count": 62,
   "metadata": {},
   "outputs": [
    {
     "name": "stdout",
     "output_type": "stream",
     "text": [
      "General Introduction 6:03\n",
      "https://d296n67kxwq0ge.cloudfront.net/audio_video/dede92e8b7f0336a021237d31cd27e25eee639b7-video-959/web_webm.webm\n",
      "---\n",
      "What's on the GRE? 5:05\n",
      "https://d296n67kxwq0ge.cloudfront.net/audio_video/b1691cd3f2ace57111faeb05d8b99372f28af5c7-video-885/web_webm.webm\n",
      "---\n",
      "Math Section Breakdown 3:59\n",
      "https://d296n67kxwq0ge.cloudfront.net/audio_video/06ed0107e7f1a75b92ce53d5d638c44670ba80a1-video-889/web_webm.webm\n",
      "---\n",
      "Verbal Section Breakdown 4:23\n",
      "https://d296n67kxwq0ge.cloudfront.net/audio_video/10f76691edd3e0eb88671da08ff42ff36022facf-video-891/web_webm.webm\n",
      "---\n",
      "Scoring Range 2:06\n",
      "https://d296n67kxwq0ge.cloudfront.net/audio_video/dfdd123629daba510a051aaec30198d6216dc201-video-888/web_webm.webm\n",
      "---\n",
      "Computer Adaptive Testing 2:53\n",
      "https://d296n67kxwq0ge.cloudfront.net/audio_video/3b682dcae09c1b0c03c5166b13ceab46306c5f39-video-890/web_webm.webm\n",
      "---\n",
      "Skipping Questions and Pacing 8:19\n",
      "https://d296n67kxwq0ge.cloudfront.net/audio_video/811e768cbc21cbda734476036716400ec1fdf9f0-video-892/web_webm.webm\n",
      "---\n",
      "Study Plans and Resources 3:04\n",
      "https://d296n67kxwq0ge.cloudfront.net/audio_video/003c22c19e4841e0f5b5d636423af35ee7a53b97-video-952/web_webm.webm\n",
      "---\n",
      "Stress Management 8:29\n",
      "https://d296n67kxwq0ge.cloudfront.net/audio_video/c2b3c5062c8598bc7c923f7dd1578256a4af06ae-video-894/web_webm.webm\n",
      "---\n",
      "Test Day 4:07\n",
      "https://d296n67kxwq0ge.cloudfront.net/audio_video/75f8bac2e6f5faebbcf0f677d4521e55b9c94807-video-895/web_webm.webm\n",
      "---\n"
     ]
    }
   ],
   "source": [
    "for lesson in lesson_list:\n",
    "    print(lesson.title)\n",
    "    print(lesson.video_link)\n",
    "    print(\"---\")"
   ]
  },
  {
   "cell_type": "markdown",
   "metadata": {},
   "source": [
    "### Backing up lesson list"
   ]
  },
  {
   "cell_type": "code",
   "execution_count": 63,
   "metadata": {},
   "outputs": [],
   "source": [
    "bkp_lessons = lesson_list"
   ]
  },
  {
   "cell_type": "markdown",
   "metadata": {},
   "source": [
    "### Sanitize file names"
   ]
  },
  {
   "cell_type": "code",
   "execution_count": 68,
   "metadata": {},
   "outputs": [],
   "source": [
    "for index in range(len(bkp_lessons)):\n",
    "    lesson = bkp_lessons[index]\n",
    "    sanitized_name = lesson.title[0:lesson.title.rindex(' ')]\n",
    "    sanitized_name = str(index + 1) + \"_\" + sanitized_name.replace(\" \", \"_\")\n",
    "    sanitized_name = sanitized_name + \".webm\"\n",
    "    bkp_lessons[index].title = sanitized_name"
   ]
  },
  {
   "cell_type": "markdown",
   "metadata": {},
   "source": [
    "### Download files"
   ]
  },
  {
   "cell_type": "code",
   "execution_count": 72,
   "metadata": {},
   "outputs": [
    {
     "ename": "KeyboardInterrupt",
     "evalue": "",
     "output_type": "error",
     "traceback": [
      "\u001b[0;31m---------------------------------------------------------------------------\u001b[0m",
      "\u001b[0;31mKeyboardInterrupt\u001b[0m                         Traceback (most recent call last)",
      "\u001b[1;32m/home/hardik/Projects/Python/magoosh-offline/offline.ipynb Cell 25'\u001b[0m in \u001b[0;36m<cell line: 1>\u001b[0;34m()\u001b[0m\n\u001b[1;32m      <a href='vscode-notebook-cell:/home/hardik/Projects/Python/magoosh-offline/offline.ipynb#ch0000031?line=0'>1</a>\u001b[0m \u001b[39mfor\u001b[39;00m lesson \u001b[39min\u001b[39;00m bkp_lessons:\n\u001b[0;32m----> <a href='vscode-notebook-cell:/home/hardik/Projects/Python/magoosh-offline/offline.ipynb#ch0000031?line=1'>2</a>\u001b[0m     urllib\u001b[39m.\u001b[39;49mrequest\u001b[39m.\u001b[39;49murlretrieve(lesson\u001b[39m.\u001b[39;49mvideo_link, lesson\u001b[39m.\u001b[39;49mtitle)\n",
      "File \u001b[0;32m/usr/lib/python3.10/urllib/request.py:270\u001b[0m, in \u001b[0;36murlretrieve\u001b[0;34m(url, filename, reporthook, data)\u001b[0m\n\u001b[1;32m    <a href='file:///usr/lib/python3.10/urllib/request.py?line=266'>267</a>\u001b[0m     reporthook(blocknum, bs, size)\n\u001b[1;32m    <a href='file:///usr/lib/python3.10/urllib/request.py?line=268'>269</a>\u001b[0m \u001b[39mwhile\u001b[39;00m \u001b[39mTrue\u001b[39;00m:\n\u001b[0;32m--> <a href='file:///usr/lib/python3.10/urllib/request.py?line=269'>270</a>\u001b[0m     block \u001b[39m=\u001b[39m fp\u001b[39m.\u001b[39;49mread(bs)\n\u001b[1;32m    <a href='file:///usr/lib/python3.10/urllib/request.py?line=270'>271</a>\u001b[0m     \u001b[39mif\u001b[39;00m \u001b[39mnot\u001b[39;00m block:\n\u001b[1;32m    <a href='file:///usr/lib/python3.10/urllib/request.py?line=271'>272</a>\u001b[0m         \u001b[39mbreak\u001b[39;00m\n",
      "File \u001b[0;32m/usr/lib/python3.10/http/client.py:465\u001b[0m, in \u001b[0;36mHTTPResponse.read\u001b[0;34m(self, amt)\u001b[0m\n\u001b[1;32m    <a href='file:///usr/lib/python3.10/http/client.py?line=461'>462</a>\u001b[0m \u001b[39mif\u001b[39;00m \u001b[39mself\u001b[39m\u001b[39m.\u001b[39mlength \u001b[39mis\u001b[39;00m \u001b[39mnot\u001b[39;00m \u001b[39mNone\u001b[39;00m \u001b[39mand\u001b[39;00m amt \u001b[39m>\u001b[39m \u001b[39mself\u001b[39m\u001b[39m.\u001b[39mlength:\n\u001b[1;32m    <a href='file:///usr/lib/python3.10/http/client.py?line=462'>463</a>\u001b[0m     \u001b[39m# clip the read to the \"end of response\"\u001b[39;00m\n\u001b[1;32m    <a href='file:///usr/lib/python3.10/http/client.py?line=463'>464</a>\u001b[0m     amt \u001b[39m=\u001b[39m \u001b[39mself\u001b[39m\u001b[39m.\u001b[39mlength\n\u001b[0;32m--> <a href='file:///usr/lib/python3.10/http/client.py?line=464'>465</a>\u001b[0m s \u001b[39m=\u001b[39m \u001b[39mself\u001b[39;49m\u001b[39m.\u001b[39;49mfp\u001b[39m.\u001b[39;49mread(amt)\n\u001b[1;32m    <a href='file:///usr/lib/python3.10/http/client.py?line=465'>466</a>\u001b[0m \u001b[39mif\u001b[39;00m \u001b[39mnot\u001b[39;00m s \u001b[39mand\u001b[39;00m amt:\n\u001b[1;32m    <a href='file:///usr/lib/python3.10/http/client.py?line=466'>467</a>\u001b[0m     \u001b[39m# Ideally, we would raise IncompleteRead if the content-length\u001b[39;00m\n\u001b[1;32m    <a href='file:///usr/lib/python3.10/http/client.py?line=467'>468</a>\u001b[0m     \u001b[39m# wasn't satisfied, but it might break compatibility.\u001b[39;00m\n\u001b[1;32m    <a href='file:///usr/lib/python3.10/http/client.py?line=468'>469</a>\u001b[0m     \u001b[39mself\u001b[39m\u001b[39m.\u001b[39m_close_conn()\n",
      "File \u001b[0;32m/usr/lib/python3.10/socket.py:705\u001b[0m, in \u001b[0;36mSocketIO.readinto\u001b[0;34m(self, b)\u001b[0m\n\u001b[1;32m    <a href='file:///usr/lib/python3.10/socket.py?line=702'>703</a>\u001b[0m \u001b[39mwhile\u001b[39;00m \u001b[39mTrue\u001b[39;00m:\n\u001b[1;32m    <a href='file:///usr/lib/python3.10/socket.py?line=703'>704</a>\u001b[0m     \u001b[39mtry\u001b[39;00m:\n\u001b[0;32m--> <a href='file:///usr/lib/python3.10/socket.py?line=704'>705</a>\u001b[0m         \u001b[39mreturn\u001b[39;00m \u001b[39mself\u001b[39;49m\u001b[39m.\u001b[39;49m_sock\u001b[39m.\u001b[39;49mrecv_into(b)\n\u001b[1;32m    <a href='file:///usr/lib/python3.10/socket.py?line=705'>706</a>\u001b[0m     \u001b[39mexcept\u001b[39;00m timeout:\n\u001b[1;32m    <a href='file:///usr/lib/python3.10/socket.py?line=706'>707</a>\u001b[0m         \u001b[39mself\u001b[39m\u001b[39m.\u001b[39m_timeout_occurred \u001b[39m=\u001b[39m \u001b[39mTrue\u001b[39;00m\n",
      "File \u001b[0;32m/usr/lib/python3.10/ssl.py:1273\u001b[0m, in \u001b[0;36mSSLSocket.recv_into\u001b[0;34m(self, buffer, nbytes, flags)\u001b[0m\n\u001b[1;32m   <a href='file:///usr/lib/python3.10/ssl.py?line=1268'>1269</a>\u001b[0m     \u001b[39mif\u001b[39;00m flags \u001b[39m!=\u001b[39m \u001b[39m0\u001b[39m:\n\u001b[1;32m   <a href='file:///usr/lib/python3.10/ssl.py?line=1269'>1270</a>\u001b[0m         \u001b[39mraise\u001b[39;00m \u001b[39mValueError\u001b[39;00m(\n\u001b[1;32m   <a href='file:///usr/lib/python3.10/ssl.py?line=1270'>1271</a>\u001b[0m           \u001b[39m\"\u001b[39m\u001b[39mnon-zero flags not allowed in calls to recv_into() on \u001b[39m\u001b[39m%s\u001b[39;00m\u001b[39m\"\u001b[39m \u001b[39m%\u001b[39m\n\u001b[1;32m   <a href='file:///usr/lib/python3.10/ssl.py?line=1271'>1272</a>\u001b[0m           \u001b[39mself\u001b[39m\u001b[39m.\u001b[39m\u001b[39m__class__\u001b[39m)\n\u001b[0;32m-> <a href='file:///usr/lib/python3.10/ssl.py?line=1272'>1273</a>\u001b[0m     \u001b[39mreturn\u001b[39;00m \u001b[39mself\u001b[39;49m\u001b[39m.\u001b[39;49mread(nbytes, buffer)\n\u001b[1;32m   <a href='file:///usr/lib/python3.10/ssl.py?line=1273'>1274</a>\u001b[0m \u001b[39melse\u001b[39;00m:\n\u001b[1;32m   <a href='file:///usr/lib/python3.10/ssl.py?line=1274'>1275</a>\u001b[0m     \u001b[39mreturn\u001b[39;00m \u001b[39msuper\u001b[39m()\u001b[39m.\u001b[39mrecv_into(buffer, nbytes, flags)\n",
      "File \u001b[0;32m/usr/lib/python3.10/ssl.py:1129\u001b[0m, in \u001b[0;36mSSLSocket.read\u001b[0;34m(self, len, buffer)\u001b[0m\n\u001b[1;32m   <a href='file:///usr/lib/python3.10/ssl.py?line=1126'>1127</a>\u001b[0m \u001b[39mtry\u001b[39;00m:\n\u001b[1;32m   <a href='file:///usr/lib/python3.10/ssl.py?line=1127'>1128</a>\u001b[0m     \u001b[39mif\u001b[39;00m buffer \u001b[39mis\u001b[39;00m \u001b[39mnot\u001b[39;00m \u001b[39mNone\u001b[39;00m:\n\u001b[0;32m-> <a href='file:///usr/lib/python3.10/ssl.py?line=1128'>1129</a>\u001b[0m         \u001b[39mreturn\u001b[39;00m \u001b[39mself\u001b[39;49m\u001b[39m.\u001b[39;49m_sslobj\u001b[39m.\u001b[39;49mread(\u001b[39mlen\u001b[39;49m, buffer)\n\u001b[1;32m   <a href='file:///usr/lib/python3.10/ssl.py?line=1129'>1130</a>\u001b[0m     \u001b[39melse\u001b[39;00m:\n\u001b[1;32m   <a href='file:///usr/lib/python3.10/ssl.py?line=1130'>1131</a>\u001b[0m         \u001b[39mreturn\u001b[39;00m \u001b[39mself\u001b[39m\u001b[39m.\u001b[39m_sslobj\u001b[39m.\u001b[39mread(\u001b[39mlen\u001b[39m)\n",
      "\u001b[0;31mKeyboardInterrupt\u001b[0m: "
     ]
    }
   ],
   "source": [
    "for lesson in bkp_lessons:\n",
    "    print(\"Downloading: \" + str(lesson.title))\n",
    "    urllib.request.urlretrieve(lesson.video_link, lesson.title)\n"
   ]
  }
 ],
 "metadata": {
  "interpreter": {
   "hash": "e7370f93d1d0cde622a1f8e1c04877d8463912d04d973331ad4851f04de6915a"
  },
  "kernelspec": {
   "display_name": "Python 3.10.4 64-bit",
   "language": "python",
   "name": "python3"
  },
  "language_info": {
   "codemirror_mode": {
    "name": "ipython",
    "version": 3
   },
   "file_extension": ".py",
   "mimetype": "text/x-python",
   "name": "python",
   "nbconvert_exporter": "python",
   "pygments_lexer": "ipython3",
   "version": "3.10.4"
  },
  "orig_nbformat": 4
 },
 "nbformat": 4,
 "nbformat_minor": 2
}
